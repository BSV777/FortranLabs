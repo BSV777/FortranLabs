{
 "cells": [
  {
   "cell_type": "markdown",
   "id": "ebcc930a",
   "metadata": {},
   "source": [
    "<b>Задание 1</b>\n",
    "\n",
    "Тема: Условные операторы. Сложные условия. Структурный условный оператор.\n",
    "\n",
    "Вводится с клавиатуры любое значение Х.\n",
    "\n",
    "Подсчитать значение Y по одной из 3-х формул в зависимости от введенного значения Х.\n",
    "\n",
    "1. если 1 ≤ x ≤ 99, то $Y=\\frac{\\sqrt{x-1}}{x+30}$\n",
    "2. если x < 1, то $Y=\\frac{-x-2}{x+2}$\n",
    "3. в остальных случаях $Y=\\frac{\\sqrt{x-100}}{x+10}$\n"
   ]
  },
  {
   "cell_type": "code",
   "execution_count": 27,
   "id": "cddbcf68",
   "metadata": {},
   "outputs": [
    {
     "name": "stdout",
     "output_type": "stream",
     "text": [
      " Enter x\r\n",
      " You entered x =   3.00000000    \r\n",
      " Counting variant 1\r\n",
      " y =   4.28549573E-02\r\n"
     ]
    }
   ],
   "source": [
    "program var8_zad1\n",
    "\n",
    "implicit none                               ! Запрет необъявленных переменных.\n",
    "\n",
    "real x, y                                   ! Объявление переменных x и y\n",
    "\n",
    "write (*,*) 'Enter x'                       ! Печать пришлашения к вводу x\n",
    "!read (*,*) x                               ! Ввод переменной x\n",
    "x = 3\n",
    "\n",
    "write (*,*) 'You entered x =', x\n",
    "\n",
    "if (x .ge. 1. .and. x .le. 99.) then        ! Условие 1\n",
    "    write (*,*) 'Counting variant 1'        ! Отладочный вывод\n",
    "    y = sqrt(x - 1.) / (x + 30.)            ! Выражение 1\n",
    "\n",
    "else\n",
    "    if (x .lt. 1.) then                     ! Условие 2\n",
    "        write (*,*) 'Counting variant 1'    ! Отладочный вывод\n",
    "        y = (-x - 2.)/(x + 2.)              ! Выражение 2\n",
    "\n",
    "    else\n",
    "        write (*,*) 'Counting variant 1'    ! Отладочный вывод\n",
    "        y = sqrt(x - 100.)/(x + 10.)        ! Выражение 3\n",
    "    end if\n",
    "\n",
    "end if                                      ! Конец условия\n",
    "\n",
    "write (*,*) 'y =', y                        ! Вывод результата\n",
    "\n",
    "end\n"
   ]
  }
 ],
 "metadata": {
  "kernelspec": {
   "display_name": "Fortran",
   "language": "Fortran",
   "name": "fortran_spec"
  },
  "language_info": {
   "file_extension": "f90",
   "mimetype": "text/plain",
   "name": "fortran"
  }
 },
 "nbformat": 4,
 "nbformat_minor": 5
}
